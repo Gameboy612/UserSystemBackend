{
 "cells": [
  {
   "cell_type": "code",
   "execution_count": 20,
   "metadata": {},
   "outputs": [],
   "source": [
    "import os\n",
    "import json\n",
    "import pyperclip\n",
    "\n",
    "def post(data, website):\n",
    "    json_output = json.dumps(data).replace(\"\\\"\", \"\\\\\\\"\").replace(\"\\'\", \"\\\\\\'\")\n",
    "    os.system(f\"curl -X POST -H \\\"Content-Type: application/json\\\" --data \\\"{json_output}\\\" {website} > output.txt\")\n",
    "\n",
    "    with open(\"output.txt\") as file:\n",
    "        s = file.read()\n",
    "    \n",
    "    os.remove(\"output.txt\")\n",
    "    return s\n"
   ]
  },
  {
   "cell_type": "code",
   "execution_count": 90,
   "metadata": {},
   "outputs": [
    {
     "name": "stdout",
     "output_type": "stream",
     "text": [
      "{'data': {'sessionid': 'f5dd0b85-5501-4cd0-a832-b7d318460eec'}, 'response': 'User created!', 'success': True}\n"
     ]
    }
   ],
   "source": [
    "data = {\n",
    "    \"method\": \"user/register\",\n",
    "    \"data\": {\n",
    "        \"username\": \"user\",\n",
    "        \"password\": \"user123\"\n",
    "    }\n",
    "}\n",
    "\n",
    "result = json.loads(post(data, \"http://127.0.0.1:5000/endpoint\"))\n",
    "\n",
    "if result[\"success\"]:\n",
    "    pyperclip.copy(result['data']['sessionid'])\n",
    "\n",
    "print(result)"
   ]
  },
  {
   "cell_type": "code",
   "execution_count": 96,
   "metadata": {},
   "outputs": [
    {
     "name": "stdout",
     "output_type": "stream",
     "text": [
      "{'data': {'sessionid': 'c75132e2-3a82-4dca-940c-6f077acd11f3'}, 'response': 'Login Successful!', 'success': True}\n"
     ]
    }
   ],
   "source": [
    "data = {\n",
    "    \"method\": \"user/login\",\n",
    "    \"data\": {\n",
    "        \"username\": \"user\",\n",
    "        \"password\": \"user123\"\n",
    "    }\n",
    "}\n",
    "\n",
    "result = json.loads(post(data, \"http://127.0.0.1:5000/endpoint\"))\n",
    "\n",
    "if result[\"success\"]:\n",
    "    pyperclip.copy(result['data']['sessionid'])\n",
    "\n",
    "print(result)"
   ]
  },
  {
   "cell_type": "code",
   "execution_count": 97,
   "metadata": {},
   "outputs": [
    {
     "name": "stdout",
     "output_type": "stream",
     "text": [
      "{'response': 'All Related Session Keys Deleted.', 'success': True}\n"
     ]
    }
   ],
   "source": [
    "sessionid = input(\"Session ID: \")\n",
    "\n",
    "data = {\n",
    "    \"method\": \"user/logout_everywhere\",\n",
    "    \"data\": {\n",
    "        \"sessionid\": sessionid\n",
    "    }\n",
    "}\n",
    "\n",
    "result = post(data, \"http://127.0.0.1:5000/endpoint\")\n",
    "\n",
    "print(json.loads(result))"
   ]
  },
  {
   "cell_type": "code",
   "execution_count": 86,
   "metadata": {},
   "outputs": [
    {
     "name": "stdout",
     "output_type": "stream",
     "text": [
      "{'data': {'sessionid': 'b825888b-eeb9-40ce-a766-5cfbeefed4f0'}, 'response': 'Password Updated', 'success': True}\n"
     ]
    }
   ],
   "source": [
    "sessionid = input(\"Session ID: \")\n",
    "oldpassword = input(\"Old Password: \")\n",
    "newpassword = input(\"New Password: \")\n",
    "\n",
    "data = {\n",
    "    \"method\": \"user/change_password\",\n",
    "    \"data\": {\n",
    "        \"sessionid\": sessionid,\n",
    "        \"oldpassword\": oldpassword,\n",
    "        \"newpassword\": newpassword\n",
    "    }\n",
    "}\n",
    "\n",
    "result = post(data, \"http://127.0.0.1:5000/endpoint\")\n",
    "\n",
    "print(json.loads(result))"
   ]
  }
 ],
 "metadata": {
  "kernelspec": {
   "display_name": "Python 3",
   "language": "python",
   "name": "python3"
  },
  "language_info": {
   "codemirror_mode": {
    "name": "ipython",
    "version": 3
   },
   "file_extension": ".py",
   "mimetype": "text/x-python",
   "name": "python",
   "nbconvert_exporter": "python",
   "pygments_lexer": "ipython3",
   "version": "3.10.7"
  },
  "orig_nbformat": 4
 },
 "nbformat": 4,
 "nbformat_minor": 2
}
