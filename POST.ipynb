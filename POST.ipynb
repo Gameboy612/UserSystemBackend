{
 "cells": [
  {
   "cell_type": "code",
   "execution_count": 24,
   "metadata": {},
   "outputs": [],
   "source": [
    "import os\n",
    "import json\n",
    "import pyperclip\n",
    "\n",
    "def post(data, website):\n",
    "    json_output = json.dumps(data).replace(\"\\\"\", \"\\\\\\\"\").replace(\"\\'\", \"\\\\\\'\")\n",
    "    os.system(f\"curl -X POST -H \\\"Content-Type: application/json\\\" --data \\\"{json_output}\\\" {website} > output.txt\")\n",
    "\n",
    "    with open(\"output.txt\") as file:\n",
    "        s = file.read()\n",
    "    \n",
    "    os.remove(\"output.txt\")\n",
    "    return s\n"
   ]
  },
  {
   "cell_type": "code",
   "execution_count": 25,
   "metadata": {},
   "outputs": [
    {
     "name": "stdout",
     "output_type": "stream",
     "text": [
      "{'data': {'sessionid': '625cb6de-86e7-4d13-ab23-e244bad651d7'}, 'response': 'User created!', 'success': True}\n"
     ]
    }
   ],
   "source": [
    "data = {\n",
    "    \"method\": \"user/register\",\n",
    "    \"data\": {\n",
    "        \"username\": \"admin\",\n",
    "        \"password\": \"Admin123\"\n",
    "    }\n",
    "}\n",
    "\n",
    "result = json.loads(post(data, \"http://127.0.0.1:5000/endpoint\"))\n",
    "\n",
    "if result[\"success\"]:\n",
    "    pyperclip.copy(result['data']['sessionid'])\n",
    "\n",
    "print(result)"
   ]
  },
  {
   "cell_type": "code",
   "execution_count": 18,
   "metadata": {},
   "outputs": [
    {
     "name": "stdout",
     "output_type": "stream",
     "text": [
      "{'data': {'sessionid': '6e7b2092-a3e8-4815-8eec-7db151fa953b'}, 'response': 'Login Successful!', 'success': True}\n"
     ]
    }
   ],
   "source": [
    "data = {\n",
    "    \"method\": \"user/login\",\n",
    "    \"data\": {\n",
    "        \"username\": \"admin\",\n",
    "        \"password\": \"Admin123\"\n",
    "    }\n",
    "}\n",
    "\n",
    "result = json.loads(post(data, \"http://127.0.0.1:5000/endpoint\"))\n",
    "\n",
    "if result[\"success\"]:\n",
    "    pyperclip.copy(result['data']['sessionid'])\n",
    "\n",
    "print(result)"
   ]
  },
  {
   "cell_type": "code",
   "execution_count": 15,
   "metadata": {},
   "outputs": [
    {
     "name": "stdout",
     "output_type": "stream",
     "text": [
      "{'response': 'All Related Session Keys Deleted.', 'success': True}\n"
     ]
    }
   ],
   "source": [
    "sessionid = input(\"Session ID: \")\n",
    "\n",
    "data = {\n",
    "    \"method\": \"user/logout_everywhere\",\n",
    "    \"data\": {\n",
    "        \"sessionid\": sessionid\n",
    "    }\n",
    "}\n",
    "\n",
    "result = post(data, \"http://127.0.0.1:5000/endpoint\")\n",
    "\n",
    "print(json.loads(result))"
   ]
  },
  {
   "cell_type": "code",
   "execution_count": 19,
   "metadata": {},
   "outputs": [
    {
     "name": "stdout",
     "output_type": "stream",
     "text": [
      "{'data': {'sessionid': '5ae0ea3c-5796-4c8b-b707-17df666009d9'}, 'response': 'Password Updated', 'success': True}\n"
     ]
    }
   ],
   "source": [
    "sessionid = input(\"Session ID: \")\n",
    "oldpassword = input(\"Old Password: \")\n",
    "newpassword = input(\"New Password: \")\n",
    "\n",
    "data = {\n",
    "    \"method\": \"user/change_password\",\n",
    "    \"data\": {\n",
    "        \"sessionid\": sessionid,\n",
    "        \"oldpassword\": oldpassword,\n",
    "        \"newpassword\": newpassword\n",
    "    }\n",
    "}\n",
    "\n",
    "result = post(data, \"http://127.0.0.1:5000/endpoint\")\n",
    "\n",
    "print(json.loads(result))"
   ]
  },
  {
   "cell_type": "code",
   "execution_count": 40,
   "metadata": {},
   "outputs": [
    {
     "name": "stdout",
     "output_type": "stream",
     "text": [
      "{'data': {'_id': 1, 'date_of_birth': None, 'description': None, 'display_name': None, 'first_name': None, 'gender': None, 'last_name': None, 'last_updated': 'Wed, 25 Oct 2023 10:01:06 GMT', 'phone_number': None, 'primary_email_address': None, 'secondary_email_address': None, 'userid': 1, 'website_link': None}, 'response': '', 'success': True}\n"
     ]
    }
   ],
   "source": [
    "sessionid = input(\"Session ID: \")\n",
    "\n",
    "data = {\n",
    "    \"method\": \"action/get_profile\",\n",
    "    \"data\": {\n",
    "        \"sessionid\": sessionid\n",
    "    }\n",
    "}\n",
    "\n",
    "result = post(data, \"http://127.0.0.1:5000/endpoint\")\n",
    "\n",
    "print(json.loads(result))"
   ]
  }
 ],
 "metadata": {
  "kernelspec": {
   "display_name": "Python 3",
   "language": "python",
   "name": "python3"
  },
  "language_info": {
   "codemirror_mode": {
    "name": "ipython",
    "version": 3
   },
   "file_extension": ".py",
   "mimetype": "text/x-python",
   "name": "python",
   "nbconvert_exporter": "python",
   "pygments_lexer": "ipython3",
   "version": "3.10.7"
  },
  "orig_nbformat": 4
 },
 "nbformat": 4,
 "nbformat_minor": 2
}
