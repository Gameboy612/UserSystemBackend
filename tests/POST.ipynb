{
 "cells": [
  {
   "cell_type": "code",
   "execution_count": 25,
   "metadata": {},
   "outputs": [],
   "source": [
    "import os\n",
    "import json\n",
    "import pyperclip\n",
    "\n",
    "def post(data, website):\n",
    "    json_output = json.dumps(data).replace(\"\\\"\", \"\\\\\\\"\").replace(\"\\'\", \"\\\\\\'\")\n",
    "    os.system(f\"curl -X POST -H \\\"Content-Type: application/json\\\" --data \\\"{json_output}\\\" {website} > output.txt\")\n",
    "\n",
    "    with open(\"output.txt\") as file:\n",
    "        s = file.read()\n",
    "    \n",
    "    os.remove(\"output.txt\")\n",
    "    return s\n"
   ]
  },
  {
   "cell_type": "markdown",
   "metadata": {},
   "source": [
    "# User Account (Login/Register/Password etc.)"
   ]
  },
  {
   "cell_type": "code",
   "execution_count": 30,
   "metadata": {},
   "outputs": [
    {
     "name": "stdout",
     "output_type": "stream",
     "text": [
      "{'data': {'sessionid': 'b31f36d4-a3d2-4568-ad7b-4034633977b9'}, 'response': 'User created!', 'success': True}\n"
     ]
    }
   ],
   "source": [
    "data = {\n",
    "    \"method\": \"user/register\",\n",
    "    \"data\": {\n",
    "        \"username\": \"admin\",\n",
    "        \"password\": \"Admin123\"\n",
    "    }\n",
    "}\n",
    "\n",
    "result = json.loads(post(data, \"http://127.0.0.1:5000/endpoint\"))\n",
    "\n",
    "if result[\"success\"]:\n",
    "    pyperclip.copy(result['data']['sessionid'])\n",
    "\n",
    "print(result)"
   ]
  },
  {
   "cell_type": "code",
   "execution_count": 31,
   "metadata": {},
   "outputs": [
    {
     "name": "stdout",
     "output_type": "stream",
     "text": [
      "{'data': {'sessionid': '2c49e3d5-6b72-46a1-a09c-92be2d838944'}, 'response': 'Login Successful!', 'success': True}\n"
     ]
    }
   ],
   "source": [
    "data = {\n",
    "    \"method\": \"user/login\",\n",
    "    \"data\": {\n",
    "        \"username\": \"admin\",\n",
    "        \"password\": \"Admin123\"\n",
    "    }\n",
    "}\n",
    "\n",
    "result = json.loads(post(data, \"http://127.0.0.1:5000/endpoint\"))\n",
    "\n",
    "if result[\"success\"]:\n",
    "    pyperclip.copy(result['data']['sessionid'])\n",
    "\n",
    "print(result)"
   ]
  },
  {
   "cell_type": "code",
   "execution_count": 15,
   "metadata": {},
   "outputs": [
    {
     "name": "stdout",
     "output_type": "stream",
     "text": [
      "{'response': 'All Related Session Keys Deleted.', 'success': True}\n"
     ]
    }
   ],
   "source": [
    "sessionid = input(\"Session ID: \")\n",
    "\n",
    "data = {\n",
    "    \"method\": \"user/logout_everywhere\",\n",
    "    \"data\": {\n",
    "        \"sessionid\": sessionid\n",
    "    }\n",
    "}\n",
    "\n",
    "result = post(data, \"http://127.0.0.1:5000/endpoint\")\n",
    "\n",
    "print(json.loads(result))"
   ]
  },
  {
   "cell_type": "code",
   "execution_count": 13,
   "metadata": {},
   "outputs": [
    {
     "name": "stdout",
     "output_type": "stream",
     "text": [
      "{'data': {'sessionid': '004c6b3a-3647-4312-84fe-0fae173edd93'}, 'response': 'Password Updated', 'success': True}\n"
     ]
    }
   ],
   "source": [
    "sessionid = input(\"Session ID: \")\n",
    "oldpassword = input(\"Old Password: \")\n",
    "newpassword = input(\"New Password: \")\n",
    "\n",
    "data = {\n",
    "    \"method\": \"user/change_password\",\n",
    "    \"data\": {\n",
    "        \"sessionid\": sessionid,\n",
    "        \"oldpassword\": oldpassword,\n",
    "        \"newpassword\": newpassword\n",
    "    }\n",
    "}\n",
    "\n",
    "result = post(data, \"http://127.0.0.1:5000/endpoint\")\n",
    "\n",
    "print(json.loads(result))"
   ]
  },
  {
   "cell_type": "markdown",
   "metadata": {},
   "source": [
    "# Actions\n",
    "Profile APIs:"
   ]
  },
  {
   "cell_type": "code",
   "execution_count": null,
   "metadata": {},
   "outputs": [
    {
     "name": "stdout",
     "output_type": "stream",
     "text": [
      "{'data': {'_id': 1, 'date_of_birth': None, 'description': None, 'display_name': None, 'first_name': None, 'gender': None, 'last_name': None, 'last_updated': 'Wed, 25 Oct 2023 10:01:06 GMT', 'phone_number': None, 'primary_email_address': None, 'secondary_email_address': None, 'userid': 1, 'website_link': None}, 'response': '', 'success': True}\n"
     ]
    }
   ],
   "source": [
    "sessionid = input(\"Session ID: \")\n",
    "\n",
    "data = {\n",
    "    \"method\": \"action/get_profile\",\n",
    "    \"data\": {\n",
    "        \"sessionid\": sessionid\n",
    "    }\n",
    "}\n",
    "\n",
    "result = post(data, \"http://127.0.0.1:5000/endpoint\")\n",
    "\n",
    "print(json.loads(result))"
   ]
  },
  {
   "cell_type": "code",
   "execution_count": 20,
   "metadata": {},
   "outputs": [
    {
     "name": "stdout",
     "output_type": "stream",
     "text": [
      "{'data': {}, 'response': 'Data successfully changed.', 'success': True}\n"
     ]
    }
   ],
   "source": [
    "sessionid = input(\"Session ID: \")\n",
    "\n",
    "data = {\n",
    "    \"method\": \"action/set_profile\",\n",
    "    \"data\": {\n",
    "        \"sessionid\": sessionid,\n",
    "        \"edited_data\": {\n",
    "            \"display_name\": \"\",\n",
    "            \"first_name\": \"\",\n",
    "            \"gender\": \"\"\n",
    "        }\n",
    "    }\n",
    "}\n",
    "\n",
    "result = post(data, \"http://127.0.0.1:5000/endpoint\")\n",
    "\n",
    "print(json.loads(result))"
   ]
  },
  {
   "cell_type": "markdown",
   "metadata": {},
   "source": [
    "Followlinks"
   ]
  },
  {
   "cell_type": "code",
   "execution_count": 39,
   "metadata": {},
   "outputs": [
    {
     "name": "stdout",
     "output_type": "stream",
     "text": [
      "{'data': {}, 'response': 'Successfully Followed User.', 'success': True}\n"
     ]
    }
   ],
   "source": [
    "sessionid = input(\"Session ID: \")\n",
    "userid = int(input(\"Which userid to follow: \"))\n",
    "\n",
    "data = {\n",
    "    \"method\": \"action/followlinks/follow_user\",\n",
    "    \"data\": {\n",
    "        \"sessionid\": sessionid,\n",
    "        \"userid\": userid\n",
    "    }\n",
    "}\n",
    "\n",
    "result = post(data, \"http://127.0.0.1:5000/endpoint\")\n",
    "\n",
    "print(json.loads(result))"
   ]
  },
  {
   "cell_type": "code",
   "execution_count": 18,
   "metadata": {},
   "outputs": [
    {
     "name": "stdout",
     "output_type": "stream",
     "text": [
      "{'data': {'backward': 0, 'forward': 0}, 'response': 'FollowStatus:\\n0 - NotFollowing,\\n1 - WaitingForApproval,\\n2 - Following', 'success': True}\n"
     ]
    }
   ],
   "source": [
    "userid1 = int(input(\"Input user 1: \"))\n",
    "userid2 = int(input(\"Input user 2: \"))\n",
    "\n",
    "data = {\n",
    "    \"method\": \"action/followlinks/get_relation\",\n",
    "    \"data\": {\n",
    "        \"userid1\": userid1,\n",
    "        \"userid2\": userid2\n",
    "    }\n",
    "}\n",
    "\n",
    "result = post(data, \"http://127.0.0.1:5000/endpoint\")\n",
    "\n",
    "print(json.loads(result))"
   ]
  },
  {
   "cell_type": "code",
   "execution_count": 13,
   "metadata": {},
   "outputs": [
    {
     "name": "stdout",
     "output_type": "stream",
     "text": [
      "{'data': {'followers': [], 'followings': []}, 'response': '', 'success': True}\n"
     ]
    }
   ],
   "source": [
    "userid = int(input(\"Input user: \"))\n",
    "\n",
    "data = {\n",
    "    \"method\": \"action/followlinks/get_followlinks\",\n",
    "    \"data\": {\n",
    "        \"userid\": userid\n",
    "    }\n",
    "}\n",
    "\n",
    "result = post(data, \"http://127.0.0.1:5000/endpoint\")\n",
    "\n",
    "print(json.loads(result))"
   ]
  }
 ],
 "metadata": {
  "kernelspec": {
   "display_name": "Python 3",
   "language": "python",
   "name": "python3"
  },
  "language_info": {
   "codemirror_mode": {
    "name": "ipython",
    "version": 3
   },
   "file_extension": ".py",
   "mimetype": "text/x-python",
   "name": "python",
   "nbconvert_exporter": "python",
   "pygments_lexer": "ipython3",
   "version": "3.10.7"
  },
  "orig_nbformat": 4
 },
 "nbformat": 4,
 "nbformat_minor": 2
}
